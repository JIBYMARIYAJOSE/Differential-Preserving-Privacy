{
  "nbformat": 4,
  "nbformat_minor": 0,
  "metadata": {
    "colab": {
      "name": "Differential Privacy preserving using KMeans.ipynb",
      "provenance": []
    },
    "kernelspec": {
      "name": "python3",
      "display_name": "Python 3"
    },
    "language_info": {
      "name": "python"
    }
  },
  "cells": [
    {
      "cell_type": "code",
      "source": [
        "##PRIVACY PRESERVING ALGORITHMS IN MACHINE LEARNING###\n",
        "#Privacy-Preserving Machine Learning is a step-by-step approach to preventing data leakage in machine learning algorithms.\n",
        "#Referred From- \" https://www.analyticsvidhya.com/blog/2022/02/privacy-preserving-in-machine-learning-ppml/#:~:text=These%20techniques%20include%20perturbation%20techniques,specific%20approaches%20like%20federated%20learning.\"\n"
      ],
      "metadata": {
        "id": "robAcuOO3KWl"
      },
      "execution_count": null,
      "outputs": []
    },
    {
      "cell_type": "code",
      "execution_count": null,
      "metadata": {
        "id": "QsG2DvIrVJSA"
      },
      "outputs": [],
      "source": [
        "#Diffprivlib is a general-purpose library for experimenting with, investigating and developing applications in, differential privacy.\n",
        "\n",
        "#Use diffprivlib if you are looking to:\n",
        "\n",
        "# - Experiment with differential privacy\n",
        "# - Explore the impact of differential privacy on machine learning accuracy using classification and clustering models\n",
        "# - Build your own differential privacy applications, using our extensive collection of mechanisms\n",
        "# Please Refer the reference folder in LAB-13 -  Paper - \"Diffprivlib: The IBM Dierential Privacy Library\" "
      ]
    },
    {
      "cell_type": "markdown",
      "source": [
        "Diffprivlib is comprised of four major components:\n",
        "\n",
        "Mechanisms: These are the building blocks of differential privacy, and are used in all models that implement differential privacy. Mechanisms have little or no default settings, and are intended for use by experts implementing their own models. They can, however, be used outside models for separate investigations, etc.\n",
        "\n",
        "Models: This module includes machine learning models with differential privacy. Diffprivlib currently has models for clustering, classification, regression, dimensionality reduction and pre-processing.\n",
        "\n",
        "Tools: Diffprivlib comes with a number of generic tools for differentially private data analysis. This includes differentially private histograms, following the same format as Numpy's histogram function.\n",
        "\n",
        "Accountant: The BudgetAccountant class can be used to track privacy budget and calculate total privacy loss using advanced composition techniques."
      ],
      "metadata": {
        "id": "tpHvyguf6Sux"
      }
    },
    {
      "cell_type": "code",
      "source": [
        "#The library is designed to run with Python 3. The library can be installed from the PyPi repository using pip (or pip3)"
      ],
      "metadata": {
        "id": "TmupHg8i3KaA"
      },
      "execution_count": null,
      "outputs": []
    },
    {
      "cell_type": "code",
      "source": [
        "!pip install diffprivlib"
      ],
      "metadata": {
        "colab": {
          "base_uri": "https://localhost:8080/",
          "height": 540
        },
        "id": "Mf8OOb6ZW8CG",
        "outputId": "9aa3260f-90b4-48c1-f518-5c8cddae8d56"
      },
      "execution_count": 4,
      "outputs": [
        {
          "output_type": "stream",
          "name": "stdout",
          "text": [
            "Collecting diffprivlib\n",
            "  Downloading diffprivlib-0.5.1.tar.gz (87 kB)\n",
            "\u001b[?25l\r\u001b[K     |███▊                            | 10 kB 21.7 MB/s eta 0:00:01\r\u001b[K     |███████▌                        | 20 kB 16.1 MB/s eta 0:00:01\r\u001b[K     |███████████▎                    | 30 kB 10.8 MB/s eta 0:00:01\r\u001b[K     |███████████████                 | 40 kB 9.3 MB/s eta 0:00:01\r\u001b[K     |██████████████████▊             | 51 kB 4.4 MB/s eta 0:00:01\r\u001b[K     |██████████████████████▌         | 61 kB 5.2 MB/s eta 0:00:01\r\u001b[K     |██████████████████████████▎     | 71 kB 5.4 MB/s eta 0:00:01\r\u001b[K     |██████████████████████████████  | 81 kB 5.7 MB/s eta 0:00:01\r\u001b[K     |████████████████████████████████| 87 kB 3.3 MB/s \n",
            "\u001b[?25hRequirement already satisfied: numpy>=1.19.0 in /usr/local/lib/python3.7/dist-packages (from diffprivlib) (1.21.6)\n",
            "Requirement already satisfied: setuptools>=49.0.0 in /usr/local/lib/python3.7/dist-packages (from diffprivlib) (57.4.0)\n",
            "Requirement already satisfied: scikit-learn>=0.23.0 in /usr/local/lib/python3.7/dist-packages (from diffprivlib) (1.0.2)\n",
            "Collecting scipy>=1.5.0\n",
            "  Downloading scipy-1.7.3-cp37-cp37m-manylinux_2_12_x86_64.manylinux2010_x86_64.whl (38.1 MB)\n",
            "\u001b[K     |████████████████████████████████| 38.1 MB 1.2 MB/s \n",
            "\u001b[?25hRequirement already satisfied: joblib>=0.16.0 in /usr/local/lib/python3.7/dist-packages (from diffprivlib) (1.1.0)\n",
            "Requirement already satisfied: threadpoolctl>=2.0.0 in /usr/local/lib/python3.7/dist-packages (from scikit-learn>=0.23.0->diffprivlib) (3.1.0)\n",
            "Building wheels for collected packages: diffprivlib\n",
            "  Building wheel for diffprivlib (setup.py) ... \u001b[?25l\u001b[?25hdone\n",
            "  Created wheel for diffprivlib: filename=diffprivlib-0.5.1-py3-none-any.whl size=162306 sha256=997bb5ab444e7bc0473f2fbbcf2a3bec5590c8304413c7ee4f35251cbd6747d8\n",
            "  Stored in directory: /root/.cache/pip/wheels/88/fb/35/44ce5d133fbdc88e5cbad820d700b62a4a7bb7c160408d0493\n",
            "Successfully built diffprivlib\n",
            "Installing collected packages: scipy, diffprivlib\n",
            "  Attempting uninstall: scipy\n",
            "    Found existing installation: scipy 1.4.1\n",
            "    Uninstalling scipy-1.4.1:\n",
            "      Successfully uninstalled scipy-1.4.1\n",
            "\u001b[31mERROR: pip's dependency resolver does not currently take into account all the packages that are installed. This behaviour is the source of the following dependency conflicts.\n",
            "albumentations 0.1.12 requires imgaug<0.2.7,>=0.2.5, but you have imgaug 0.2.9 which is incompatible.\u001b[0m\n",
            "Successfully installed diffprivlib-0.5.1 scipy-1.7.3\n"
          ]
        },
        {
          "output_type": "display_data",
          "data": {
            "application/vnd.colab-display-data+json": {
              "pip_warning": {
                "packages": [
                  "scipy"
                ]
              }
            }
          },
          "metadata": {}
        }
      ]
    },
    {
      "cell_type": "code",
      "source": [
        "#We start by importing the required libraries and modules \n",
        "\n",
        "from sklearn import metrics\n",
        "from sklearn.cluster import KMeans\n",
        "import numpy as np\n",
        "import matplotlib.pyplot as plt\n",
        "import pandas as pd"
      ],
      "metadata": {
        "id": "0fw6daUuXRTa"
      },
      "execution_count": 48,
      "outputs": []
    },
    {
      "cell_type": "code",
      "source": [
        "#DATSET-IRIS DATASET\n",
        "#The Iris dataset was used in R.A. Fisher's classic 1936 paper,\n",
        "#\"The Use of Multiple Measurements in Taxonomic Problems\" , and can also be found on the UCI Machine Learning Repository.\n",
        "\n",
        "#It includes three iris species with 50 samples each as well as some properties about each flower. \n",
        "#One flower species is linearly separable from the other two, but the other two are not linearly separable from each other.\n",
        "\n",
        "#The columns in this dataset are:\n",
        "\n",
        "#Id\n",
        "#SepalLengthCm\n",
        "#SepalWidthCm\n",
        "#PetalLengthCm\n",
        "#PetalWidthCm\n",
        "#Species\n",
        "##Please Refer The Refernce Folder In LAB-13 For More info ##"
      ],
      "metadata": {
        "id": "evnzAH3Kzww6"
      },
      "execution_count": null,
      "outputs": []
    },
    {
      "cell_type": "code",
      "source": [
        "#Load the dataset- IRIS dataset\n",
        "iris = pd.read_csv(\"/content/IRIS.csv\")\n",
        "\n",
        "# iloc()-integer-location based indexing for selection by position.iloc[] is primarily integer position based (from 0 to length-1 of the axis), but may also be used with a boolean array.\n",
        "# Ref-\" https://www.askpython.com/python/built-in-methods/python-iloc-function\"\n",
        "# First parameter inside the iloc()- rows\n",
        "# Second Parameter inside the iloc()- column // Randomly Chosen\n",
        "\n",
        "X =  iris.iloc[:, [0, 1, 2, 3]].values\n",
        "X\n"
      ],
      "metadata": {
        "colab": {
          "base_uri": "https://localhost:8080/"
        },
        "id": "aBKRM-YNY4wj",
        "outputId": "691b850b-eaff-491c-be4c-8a9407cbc28c"
      },
      "execution_count": 49,
      "outputs": [
        {
          "output_type": "execute_result",
          "data": {
            "text/plain": [
              "array([[5.1, 3.5, 1.4, 0.2],\n",
              "       [4.9, 3. , 1.4, 0.2],\n",
              "       [4.7, 3.2, 1.3, 0.2],\n",
              "       [4.6, 3.1, 1.5, 0.2],\n",
              "       [5. , 3.6, 1.4, 0.2],\n",
              "       [5.4, 3.9, 1.7, 0.4],\n",
              "       [4.6, 3.4, 1.4, 0.3],\n",
              "       [5. , 3.4, 1.5, 0.2],\n",
              "       [4.4, 2.9, 1.4, 0.2],\n",
              "       [4.9, 3.1, 1.5, 0.1],\n",
              "       [5.4, 3.7, 1.5, 0.2],\n",
              "       [4.8, 3.4, 1.6, 0.2],\n",
              "       [4.8, 3. , 1.4, 0.1],\n",
              "       [4.3, 3. , 1.1, 0.1],\n",
              "       [5.8, 4. , 1.2, 0.2],\n",
              "       [5.7, 4.4, 1.5, 0.4],\n",
              "       [5.4, 3.9, 1.3, 0.4],\n",
              "       [5.1, 3.5, 1.4, 0.3],\n",
              "       [5.7, 3.8, 1.7, 0.3],\n",
              "       [5.1, 3.8, 1.5, 0.3],\n",
              "       [5.4, 3.4, 1.7, 0.2],\n",
              "       [5.1, 3.7, 1.5, 0.4],\n",
              "       [4.6, 3.6, 1. , 0.2],\n",
              "       [5.1, 3.3, 1.7, 0.5],\n",
              "       [4.8, 3.4, 1.9, 0.2],\n",
              "       [5. , 3. , 1.6, 0.2],\n",
              "       [5. , 3.4, 1.6, 0.4],\n",
              "       [5.2, 3.5, 1.5, 0.2],\n",
              "       [5.2, 3.4, 1.4, 0.2],\n",
              "       [4.7, 3.2, 1.6, 0.2],\n",
              "       [4.8, 3.1, 1.6, 0.2],\n",
              "       [5.4, 3.4, 1.5, 0.4],\n",
              "       [5.2, 4.1, 1.5, 0.1],\n",
              "       [5.5, 4.2, 1.4, 0.2],\n",
              "       [4.9, 3.1, 1.5, 0.1],\n",
              "       [5. , 3.2, 1.2, 0.2],\n",
              "       [5.5, 3.5, 1.3, 0.2],\n",
              "       [4.9, 3.1, 1.5, 0.1],\n",
              "       [4.4, 3. , 1.3, 0.2],\n",
              "       [5.1, 3.4, 1.5, 0.2],\n",
              "       [5. , 3.5, 1.3, 0.3],\n",
              "       [4.5, 2.3, 1.3, 0.3],\n",
              "       [4.4, 3.2, 1.3, 0.2],\n",
              "       [5. , 3.5, 1.6, 0.6],\n",
              "       [5.1, 3.8, 1.9, 0.4],\n",
              "       [4.8, 3. , 1.4, 0.3],\n",
              "       [5.1, 3.8, 1.6, 0.2],\n",
              "       [4.6, 3.2, 1.4, 0.2],\n",
              "       [5.3, 3.7, 1.5, 0.2],\n",
              "       [5. , 3.3, 1.4, 0.2],\n",
              "       [7. , 3.2, 4.7, 1.4],\n",
              "       [6.4, 3.2, 4.5, 1.5],\n",
              "       [6.9, 3.1, 4.9, 1.5],\n",
              "       [5.5, 2.3, 4. , 1.3],\n",
              "       [6.5, 2.8, 4.6, 1.5],\n",
              "       [5.7, 2.8, 4.5, 1.3],\n",
              "       [6.3, 3.3, 4.7, 1.6],\n",
              "       [4.9, 2.4, 3.3, 1. ],\n",
              "       [6.6, 2.9, 4.6, 1.3],\n",
              "       [5.2, 2.7, 3.9, 1.4],\n",
              "       [5. , 2. , 3.5, 1. ],\n",
              "       [5.9, 3. , 4.2, 1.5],\n",
              "       [6. , 2.2, 4. , 1. ],\n",
              "       [6.1, 2.9, 4.7, 1.4],\n",
              "       [5.6, 2.9, 3.6, 1.3],\n",
              "       [6.7, 3.1, 4.4, 1.4],\n",
              "       [5.6, 3. , 4.5, 1.5],\n",
              "       [5.8, 2.7, 4.1, 1. ],\n",
              "       [6.2, 2.2, 4.5, 1.5],\n",
              "       [5.6, 2.5, 3.9, 1.1],\n",
              "       [5.9, 3.2, 4.8, 1.8],\n",
              "       [6.1, 2.8, 4. , 1.3],\n",
              "       [6.3, 2.5, 4.9, 1.5],\n",
              "       [6.1, 2.8, 4.7, 1.2],\n",
              "       [6.4, 2.9, 4.3, 1.3],\n",
              "       [6.6, 3. , 4.4, 1.4],\n",
              "       [6.8, 2.8, 4.8, 1.4],\n",
              "       [6.7, 3. , 5. , 1.7],\n",
              "       [6. , 2.9, 4.5, 1.5],\n",
              "       [5.7, 2.6, 3.5, 1. ],\n",
              "       [5.5, 2.4, 3.8, 1.1],\n",
              "       [5.5, 2.4, 3.7, 1. ],\n",
              "       [5.8, 2.7, 3.9, 1.2],\n",
              "       [6. , 2.7, 5.1, 1.6],\n",
              "       [5.4, 3. , 4.5, 1.5],\n",
              "       [6. , 3.4, 4.5, 1.6],\n",
              "       [6.7, 3.1, 4.7, 1.5],\n",
              "       [6.3, 2.3, 4.4, 1.3],\n",
              "       [5.6, 3. , 4.1, 1.3],\n",
              "       [5.5, 2.5, 4. , 1.3],\n",
              "       [5.5, 2.6, 4.4, 1.2],\n",
              "       [6.1, 3. , 4.6, 1.4],\n",
              "       [5.8, 2.6, 4. , 1.2],\n",
              "       [5. , 2.3, 3.3, 1. ],\n",
              "       [5.6, 2.7, 4.2, 1.3],\n",
              "       [5.7, 3. , 4.2, 1.2],\n",
              "       [5.7, 2.9, 4.2, 1.3],\n",
              "       [6.2, 2.9, 4.3, 1.3],\n",
              "       [5.1, 2.5, 3. , 1.1],\n",
              "       [5.7, 2.8, 4.1, 1.3],\n",
              "       [6.3, 3.3, 6. , 2.5],\n",
              "       [5.8, 2.7, 5.1, 1.9],\n",
              "       [7.1, 3. , 5.9, 2.1],\n",
              "       [6.3, 2.9, 5.6, 1.8],\n",
              "       [6.5, 3. , 5.8, 2.2],\n",
              "       [7.6, 3. , 6.6, 2.1],\n",
              "       [4.9, 2.5, 4.5, 1.7],\n",
              "       [7.3, 2.9, 6.3, 1.8],\n",
              "       [6.7, 2.5, 5.8, 1.8],\n",
              "       [7.2, 3.6, 6.1, 2.5],\n",
              "       [6.5, 3.2, 5.1, 2. ],\n",
              "       [6.4, 2.7, 5.3, 1.9],\n",
              "       [6.8, 3. , 5.5, 2.1],\n",
              "       [5.7, 2.5, 5. , 2. ],\n",
              "       [5.8, 2.8, 5.1, 2.4],\n",
              "       [6.4, 3.2, 5.3, 2.3],\n",
              "       [6.5, 3. , 5.5, 1.8],\n",
              "       [7.7, 3.8, 6.7, 2.2],\n",
              "       [7.7, 2.6, 6.9, 2.3],\n",
              "       [6. , 2.2, 5. , 1.5],\n",
              "       [6.9, 3.2, 5.7, 2.3],\n",
              "       [5.6, 2.8, 4.9, 2. ],\n",
              "       [7.7, 2.8, 6.7, 2. ],\n",
              "       [6.3, 2.7, 4.9, 1.8],\n",
              "       [6.7, 3.3, 5.7, 2.1],\n",
              "       [7.2, 3.2, 6. , 1.8],\n",
              "       [6.2, 2.8, 4.8, 1.8],\n",
              "       [6.1, 3. , 4.9, 1.8],\n",
              "       [6.4, 2.8, 5.6, 2.1],\n",
              "       [7.2, 3. , 5.8, 1.6],\n",
              "       [7.4, 2.8, 6.1, 1.9],\n",
              "       [7.9, 3.8, 6.4, 2. ],\n",
              "       [6.4, 2.8, 5.6, 2.2],\n",
              "       [6.3, 2.8, 5.1, 1.5],\n",
              "       [6.1, 2.6, 5.6, 1.4],\n",
              "       [7.7, 3. , 6.1, 2.3],\n",
              "       [6.3, 3.4, 5.6, 2.4],\n",
              "       [6.4, 3.1, 5.5, 1.8],\n",
              "       [6. , 3. , 4.8, 1.8],\n",
              "       [6.9, 3.1, 5.4, 2.1],\n",
              "       [6.7, 3.1, 5.6, 2.4],\n",
              "       [6.9, 3.1, 5.1, 2.3],\n",
              "       [5.8, 2.7, 5.1, 1.9],\n",
              "       [6.8, 3.2, 5.9, 2.3],\n",
              "       [6.7, 3.3, 5.7, 2.5],\n",
              "       [6.7, 3. , 5.2, 2.3],\n",
              "       [6.3, 2.5, 5. , 1.9],\n",
              "       [6.5, 3. , 5.2, 2. ],\n",
              "       [6.2, 3.4, 5.4, 2.3],\n",
              "       [5.9, 3. , 5.1, 1.8]])"
            ]
          },
          "metadata": {},
          "execution_count": 49
        }
      ]
    },
    {
      "cell_type": "code",
      "source": [
        "#CASE1-EVALUATING KMEANS WITHOUT PRIVACY PRESERVING MECHANISM"
      ],
      "metadata": {
        "id": "eiLtdyJSmKeD"
      },
      "execution_count": null,
      "outputs": []
    },
    {
      "cell_type": "code",
      "source": [
        "#KMeans with no privacy\n",
        "#To begin, let's first train a regular (non-private) KMEANS, and test its accuracy."
      ],
      "metadata": {
        "id": "TLZiJAE2Zirx"
      },
      "execution_count": null,
      "outputs": []
    },
    {
      "cell_type": "code",
      "source": [
        "#How to Implementing K-Means Clustering ?\n",
        "#1.Choose the number of clusters k\n",
        "#2.Select k random points from the data as centroids\n",
        "#3.Assign all the points to the closest cluster centroid\n",
        "#4.Recompute the centroids of newly formed clusters\n",
        "#5.Repeat steps 3 and 4"
      ],
      "metadata": {
        "id": "kGXaFDnOorlF"
      },
      "execution_count": null,
      "outputs": []
    },
    {
      "cell_type": "code",
      "source": [
        "#Finding the optimum number of clusters for k-means classification\n",
        "wcss =[]\n",
        "for i in range (1,11):\n",
        "    nonprivate_clf  = KMeans(n_clusters = i, init = 'k-means++', max_iter =300, n_init = 10, random_state = 0)\n",
        "    nonprivate_clf .fit(X)\n",
        "    wcss.append( nonprivate_clf.inertia_)\n"
      ],
      "metadata": {
        "id": "w4Pl0oXOZnDu"
      },
      "execution_count": 57,
      "outputs": []
    },
    {
      "cell_type": "code",
      "source": [
        "#Using the elbow method to determine the optimal number of clusters for k-means clustering\n",
        "# Plot the graph to visualize the Elbow Method to find the optimal number of cluster  \n",
        "plt.plot(range(1,11),wcss)\n",
        "plt.title('The Elbow Method')\n",
        "plt.xlabel('Number of clusters')\n",
        "plt.ylabel('WCSS')\n",
        "plt.show()\n",
        "##Referred from- https://www.kaggle.com/code/khotijahs1/k-means-clustering-of-iris-dataset/notebook"
      ],
      "metadata": {
        "colab": {
          "base_uri": "https://localhost:8080/",
          "height": 295
        },
        "id": "JojFi-6Vauyp",
        "outputId": "0bc4ff2f-4a9c-4653-e5ec-918239f0e3d0"
      },
      "execution_count": 56,
      "outputs": [
        {
          "output_type": "display_data",
          "data": {
            "text/plain": [
              "<Figure size 432x288 with 1 Axes>"
            ],
            "image/png": "[encoded data removed]"
          },
          "metadata": {
            "needs_background": "light"
          }
        }
      ]
    },
    {
      "cell_type": "code",
      "source": [
        "#Implementing K-Means Clustering"
      ],
      "metadata": {
        "id": "xX8U60pooRfD"
      },
      "execution_count": null,
      "outputs": []
    },
    {
      "cell_type": "code",
      "source": [
        "# Kmeans Ref-\"https://scikit-learn.org/stable/modules/clustering.html#k-means\"\n",
        "       # Reference 2 - \" https://jakevdp.github.io/PythonDataScienceHandbook/05.11-k-means.html\"\n",
        "\n",
        "\n",
        "#  KMean Syntax Reference-\"https://github.com/scikit-learn/scikit-learn/blob/baf828ca1/sklearn/cluster/_kmeans.py#L763\"\n",
        "# Applying KMeans to the dataset with the optimal number of cluster\n",
        "kmeans = KMeans(n_clusters = 3, init = 'k-means++', max_iter = 300, n_init = 10, random_state = 0)\n",
        "y_kmeans = kmeans.fit_predict(X)"
      ],
      "metadata": {
        "id": "fwkkArHJo_v_"
      },
      "execution_count": 58,
      "outputs": []
    },
    {
      "cell_type": "code",
      "source": [
        "#Visualising the clusters\n",
        "plt.scatter(x[y_kmeans == 0, 0], x[y_kmeans == 0, 1], s = 100, c = 'purple', label = 'Iris-setosa')\n",
        "plt.scatter(x[y_kmeans == 1, 0], x[y_kmeans == 1, 1], s = 100, c = 'orange', label = 'Iris-versicolour')\n",
        "plt.scatter(x[y_kmeans == 2, 0], x[y_kmeans == 2, 1], s = 100, c = 'green', label = 'Iris-virginica')\n",
        "\n",
        "#Plotting the centroids of the clusters\n",
        "plt.scatter(kmeans.cluster_centers_[:, 0], kmeans.cluster_centers_[:,1], s = 100, c = 'red', label = 'Centroids')\n",
        "\n",
        "plt.legend()"
      ],
      "metadata": {
        "colab": {
          "base_uri": "https://localhost:8080/",
          "height": 285
        },
        "id": "iMifTTNwpGGi",
        "outputId": "58554885-f32c-4fea-93f0-3f1bc1b4b377"
      },
      "execution_count": 59,
      "outputs": [
        {
          "output_type": "execute_result",
          "data": {
            "text/plain": [
              "<matplotlib.legend.Legend at 0x7f727b5b06d0>"
            ]
          },
          "metadata": {},
          "execution_count": 59
        },
        {
          "output_type": "display_data",
          "data": {
            "text/plain": [
              "<Figure size 432x288 with 1 Axes>"
            ],
            "image/png": "[encoded data removed]"
          },
          "metadata": {
            "needs_background": "light"
          }
        }
      ]
    },
    {
      "cell_type": "code",
      "source": [
        "#Check Accuracy\n",
        "labels = kmeans.labels_\n",
        "\n",
        "# check how many of the samples were correctly labeled\n",
        "\n",
        "correct_labels = sum(y_kmeans == labels)\n",
        "\n",
        "print(\"Result: %d out of %d samples were correctly labeled.\" % (correct_labels, y_kmeans.size))\n",
        "\n",
        "print('Accuracy score: {0:0.2f}'. format(correct_labels/float(y_kmeans.size)))"
      ],
      "metadata": {
        "colab": {
          "base_uri": "https://localhost:8080/"
        },
        "id": "dyugJ59Xp-gV",
        "outputId": "96d03ad5-9beb-4d06-9d63-36bad841af55"
      },
      "execution_count": 60,
      "outputs": [
        {
          "output_type": "stream",
          "name": "stdout",
          "text": [
            "Result: 150 out of 150 samples were correctly labeled.\n",
            "Accuracy score: 1.00\n"
          ]
        }
      ]
    },
    {
      "cell_type": "code",
      "source": [
        "#Differentially private KMEANS\n"
      ],
      "metadata": {
        "id": "XLw6wu7ja0nQ"
      },
      "execution_count": null,
      "outputs": []
    },
    {
      "cell_type": "code",
      "source": [
        " #CASE2-EVALUATING PRIVACY PRESERVING  KMEANS WITHOUT EPILSON AND BOUND VALUE "
      ],
      "metadata": {
        "id": "5ma0vGFVGBw9"
      },
      "execution_count": null,
      "outputs": []
    },
    {
      "cell_type": "code",
      "source": [
        "#Using the diffprivlib.models.KMeans module of diffprivlib, we can train a KMeans while satisfying differential privacy\n",
        "#Referred from- https://diffprivlib.readthedocs.io/en/latest/modules/models.html#k-means\n",
        "\n",
        "#Syntax- classdiffprivlib.models.KMeans(n_clusters=8, *, epsilon=1.0, bounds=None, accountant=None, **unused_args)\n",
        "#Syntax Source- https://diffprivlib.readthedocs.io/en/latest/_modules/diffprivlib/models/k_means.html#KMeans\n",
        "\n",
        "#K-Means clustering with differential privacy.\n",
        "\n",
        "\n",
        "#Implements the DPLloyd approach presented in [SCL16], leveraging the sklearn.cluster.KMeans class for full integration with Scikit Learn.\n",
        "#PLEASE Refer the \"Reference Folder in LAB 13-> Differentially Private K-Means Clustering\" to Know More about DPLloyd approach"
      ],
      "metadata": {
        "id": "KEJwPn84p-Bp"
      },
      "execution_count": null,
      "outputs": []
    },
    {
      "cell_type": "code",
      "source": [
        "\n",
        "from diffprivlib.models import KMeans\n"
      ],
      "metadata": {
        "id": "aEZoGOmohJaP"
      },
      "execution_count": 67,
      "outputs": []
    },
    {
      "cell_type": "code",
      "source": [
        "#Finding the optimum number of clusters for k-means classification\n",
        "wcss =[]\n",
        "for i in range (1,11):\n",
        "    private_clf  = KMeans()\n",
        "    private_clf .fit(X)\n",
        "    wcss.append( private_clf.inertia_)\n"
      ],
      "metadata": {
        "colab": {
          "base_uri": "https://localhost:8080/"
        },
        "id": "EjRBpcAF2cUd",
        "outputId": "b73f58a1-217b-4def-e7b1-b9a2ee8f4c7f"
      },
      "execution_count": 89,
      "outputs": [
        {
          "output_type": "stream",
          "name": "stderr",
          "text": [
            "/usr/local/lib/python3.7/dist-packages/diffprivlib/models/k_means.py:130: PrivacyLeakWarning: Bounds have not been specified and will be calculated on the data provided.  This will result in additional privacy leakage. To ensure differential privacy and no additional privacy leakage, specify `bounds` for each dimension.\n",
            "  \"privacy leakage, specify `bounds` for each dimension.\", PrivacyLeakWarning)\n",
            "/usr/local/lib/python3.7/dist-packages/diffprivlib/models/k_means.py:130: PrivacyLeakWarning: Bounds have not been specified and will be calculated on the data provided.  This will result in additional privacy leakage. To ensure differential privacy and no additional privacy leakage, specify `bounds` for each dimension.\n",
            "  \"privacy leakage, specify `bounds` for each dimension.\", PrivacyLeakWarning)\n",
            "/usr/local/lib/python3.7/dist-packages/diffprivlib/models/k_means.py:130: PrivacyLeakWarning: Bounds have not been specified and will be calculated on the data provided.  This will result in additional privacy leakage. To ensure differential privacy and no additional privacy leakage, specify `bounds` for each dimension.\n",
            "  \"privacy leakage, specify `bounds` for each dimension.\", PrivacyLeakWarning)\n",
            "/usr/local/lib/python3.7/dist-packages/diffprivlib/models/k_means.py:130: PrivacyLeakWarning: Bounds have not been specified and will be calculated on the data provided.  This will result in additional privacy leakage. To ensure differential privacy and no additional privacy leakage, specify `bounds` for each dimension.\n",
            "  \"privacy leakage, specify `bounds` for each dimension.\", PrivacyLeakWarning)\n",
            "/usr/local/lib/python3.7/dist-packages/diffprivlib/models/k_means.py:130: PrivacyLeakWarning: Bounds have not been specified and will be calculated on the data provided.  This will result in additional privacy leakage. To ensure differential privacy and no additional privacy leakage, specify `bounds` for each dimension.\n",
            "  \"privacy leakage, specify `bounds` for each dimension.\", PrivacyLeakWarning)\n",
            "/usr/local/lib/python3.7/dist-packages/diffprivlib/models/k_means.py:130: PrivacyLeakWarning: Bounds have not been specified and will be calculated on the data provided.  This will result in additional privacy leakage. To ensure differential privacy and no additional privacy leakage, specify `bounds` for each dimension.\n",
            "  \"privacy leakage, specify `bounds` for each dimension.\", PrivacyLeakWarning)\n",
            "/usr/local/lib/python3.7/dist-packages/diffprivlib/models/k_means.py:130: PrivacyLeakWarning: Bounds have not been specified and will be calculated on the data provided.  This will result in additional privacy leakage. To ensure differential privacy and no additional privacy leakage, specify `bounds` for each dimension.\n",
            "  \"privacy leakage, specify `bounds` for each dimension.\", PrivacyLeakWarning)\n",
            "/usr/local/lib/python3.7/dist-packages/diffprivlib/models/k_means.py:130: PrivacyLeakWarning: Bounds have not been specified and will be calculated on the data provided.  This will result in additional privacy leakage. To ensure differential privacy and no additional privacy leakage, specify `bounds` for each dimension.\n",
            "  \"privacy leakage, specify `bounds` for each dimension.\", PrivacyLeakWarning)\n",
            "/usr/local/lib/python3.7/dist-packages/diffprivlib/models/k_means.py:130: PrivacyLeakWarning: Bounds have not been specified and will be calculated on the data provided.  This will result in additional privacy leakage. To ensure differential privacy and no additional privacy leakage, specify `bounds` for each dimension.\n",
            "  \"privacy leakage, specify `bounds` for each dimension.\", PrivacyLeakWarning)\n",
            "/usr/local/lib/python3.7/dist-packages/diffprivlib/models/k_means.py:130: PrivacyLeakWarning: Bounds have not been specified and will be calculated on the data provided.  This will result in additional privacy leakage. To ensure differential privacy and no additional privacy leakage, specify `bounds` for each dimension.\n",
            "  \"privacy leakage, specify `bounds` for each dimension.\", PrivacyLeakWarning)\n"
          ]
        }
      ]
    },
    {
      "cell_type": "code",
      "source": [
        "#Using the elbow method to determine the optimal number of clusters for k-means clustering\n",
        "# Plot the graph to visualize the Elbow Method to find the optimal number of cluster  \n",
        "plt.plot(range(1,11),wcss)\n",
        "plt.title('The Elbow Method')\n",
        "plt.xlabel('Number of clusters')\n",
        "plt.ylabel('WCSS')\n",
        "plt.show()\n",
        "##Referred from- https://www.kaggle.com/code/khotijahs1/k-means-clustering-of-iris-dataset/notebook"
      ],
      "metadata": {
        "colab": {
          "base_uri": "https://localhost:8080/",
          "height": 295
        },
        "id": "WV-FiHKg91os",
        "outputId": "33289f27-ad40-45ca-b1d9-07e41d7b795f"
      },
      "execution_count": 92,
      "outputs": [
        {
          "output_type": "display_data",
          "data": {
            "text/plain": [
              "<Figure size 432x288 with 1 Axes>"
            ],
            "image/png": "[encoded data removed]"
          },
          "metadata": {
            "needs_background": "light"
          }
        }
      ]
    },
    {
      "cell_type": "markdown",
      "source": [
        " Since The elbow point in the above graph is difficult to find- We Can Use -Kneedle algorithm\n",
        " Referred From- https://towardsdatascience.com/detecting-knee-elbow-points-in-a-graph-d13fc517a63c"
      ],
      "metadata": {
        "id": "0kmW8cvAA2kF"
      }
    },
    {
      "cell_type": "code",
      "source": [
        "!pip install --upgrade kneed"
      ],
      "metadata": {
        "colab": {
          "base_uri": "https://localhost:8080/"
        },
        "id": "GamawoV3BRoV",
        "outputId": "9d9032ea-7aba-4266-a28f-561c603b361e"
      },
      "execution_count": 94,
      "outputs": [
        {
          "output_type": "stream",
          "name": "stdout",
          "text": [
            "Collecting kneed\n",
            "  Downloading kneed-0.7.0-py2.py3-none-any.whl (9.4 kB)\n",
            "Requirement already satisfied: scipy in /usr/local/lib/python3.7/dist-packages (from kneed) (1.7.3)\n",
            "Requirement already satisfied: matplotlib in /usr/local/lib/python3.7/dist-packages (from kneed) (3.2.2)\n",
            "Requirement already satisfied: numpy>=1.14.2 in /usr/local/lib/python3.7/dist-packages (from kneed) (1.21.6)\n",
            "Requirement already satisfied: python-dateutil>=2.1 in /usr/local/lib/python3.7/dist-packages (from matplotlib->kneed) (2.8.2)\n",
            "Requirement already satisfied: pyparsing!=2.0.4,!=2.1.2,!=2.1.6,>=2.0.1 in /usr/local/lib/python3.7/dist-packages (from matplotlib->kneed) (3.0.8)\n",
            "Requirement already satisfied: kiwisolver>=1.0.1 in /usr/local/lib/python3.7/dist-packages (from matplotlib->kneed) (1.4.2)\n",
            "Requirement already satisfied: cycler>=0.10 in /usr/local/lib/python3.7/dist-packages (from matplotlib->kneed) (0.11.0)\n",
            "Requirement already satisfied: typing-extensions in /usr/local/lib/python3.7/dist-packages (from kiwisolver>=1.0.1->matplotlib->kneed) (4.1.1)\n",
            "Requirement already satisfied: six>=1.5 in /usr/local/lib/python3.7/dist-packages (from python-dateutil>=2.1->matplotlib->kneed) (1.15.0)\n",
            "Installing collected packages: kneed\n",
            "Successfully installed kneed-0.7.0\n"
          ]
        }
      ]
    },
    {
      "cell_type": "code",
      "source": [
        "# pip install kneed or conda install kneed\n",
        "from kneed import KneeLocator, DataGenerator"
      ],
      "metadata": {
        "id": "W0tXjZ2GBxon"
      },
      "execution_count": 99,
      "outputs": []
    },
    {
      "cell_type": "code",
      "source": [
        ""
      ],
      "metadata": {
        "id": "-hsAIEH_D3rd"
      },
      "execution_count": null,
      "outputs": []
    },
    {
      "cell_type": "markdown",
      "source": [
        "The knee point is loosely defined as the point of maximum curvature in a system. Identifying this location can be useful in many instances, but in machine learning it can be used for assiting with selection of an appropriate value of k in K-means clustering.\n",
        "Python package, kneed, that can be used to detect the knee or elbow point by attempting an implmentation of the Kneedle algorithm.\n",
        "Referred From- https://www.kaggle.com/code/kevinarvai/knee-elbow-point-detection/notebook"
      ],
      "metadata": {
        "id": "4HaiooQAD3-R"
      }
    },
    {
      "cell_type": "code",
      "source": [
        "#The knee (or elbow) point is calculated simply by instantiating the KneeLocator class with x, y and the appropriate curve and direction.\n",
        "kneedle = KneeLocator(range(1,11),wcss, S=1.0, curve='convex', direction='decreasing')\n",
        "# Raw data and knee\n",
        "kneedle.plot_knee()\n",
        "# kneedle.elbow store the point of maximum curvature.\n",
        "print(round(kneedle.elbow, 3))\n",
        "#Referred From- \" https://github.com/arvkevi/kneed\""
      ],
      "metadata": {
        "colab": {
          "base_uri": "https://localhost:8080/",
          "height": 407
        },
        "id": "NWpaNZ8DB4u-",
        "outputId": "d13beceb-45b9-469e-831a-f2a2d4957ea3"
      },
      "execution_count": 111,
      "outputs": [
        {
          "output_type": "stream",
          "name": "stdout",
          "text": [
            "2\n"
          ]
        },
        {
          "output_type": "display_data",
          "data": {
            "text/plain": [
              "<Figure size 432x432 with 1 Axes>"
            ],
            "image/png": "[encoded data removed]"
          },
          "metadata": {
            "needs_background": "light"
          }
        }
      ]
    },
    {
      "cell_type": "markdown",
      "source": [
        "Here only k=2 as we have not specified any parameters inside the KMeans Function."
      ],
      "metadata": {
        "id": "MvRLBn31EUR6"
      }
    },
    {
      "cell_type": "code",
      "source": [
        "#Implement K Means \n",
        "clf = KMeans()\n",
        "clf.fit(X)"
      ],
      "metadata": {
        "colab": {
          "base_uri": "https://localhost:8080/"
        },
        "id": "vj2kZ4UArv8Q",
        "outputId": "ed67f6d7-3e8b-4686-f59f-25802841dbb8"
      },
      "execution_count": 69,
      "outputs": [
        {
          "output_type": "stream",
          "name": "stderr",
          "text": [
            "/usr/local/lib/python3.7/dist-packages/diffprivlib/models/k_means.py:130: PrivacyLeakWarning: Bounds have not been specified and will be calculated on the data provided.  This will result in additional privacy leakage. To ensure differential privacy and no additional privacy leakage, specify `bounds` for each dimension.\n",
            "  \"privacy leakage, specify `bounds` for each dimension.\", PrivacyLeakWarning)\n"
          ]
        },
        {
          "output_type": "execute_result",
          "data": {
            "text/plain": [
              "KMeans(accountant=BudgetAccountant(spent_budget=[(1.0, 0), (1.0, 0), (1.0, 0), (1.0, 0), (1.0, 0), ...]),\n",
              "       bounds=(array([4.3, 2. , 1. , 0.1]), array([7.9, 4.4, 6.9, 2.5])))"
            ]
          },
          "metadata": {},
          "execution_count": 69
        }
      ]
    },
    {
      "cell_type": "markdown",
      "source": [
        "diffprivlib.models.KMeans can be run without any parameters, although this will throw a warning (we need to specify the bounds parameter to avoid this). The privacy level is controlled by the parameter epsilon, which is passed to the classifier at initialisation (e.g. KMeans(epsilon=0.1)). The default is epsilon = 1.0.\n",
        "Referred From -\"https://github.com/IBM/differential-privacy-library\""
      ],
      "metadata": {
        "id": "efnZeI3b7UAV"
      }
    },
    {
      "cell_type": "code",
      "source": [
        ""
      ],
      "metadata": {
        "id": "LEkWysz_ynvJ"
      },
      "execution_count": null,
      "outputs": []
    },
    {
      "cell_type": "code",
      "source": [
        "#Every time the model is trained with .fit(), a different model is produced due to the randomness of differential privacy. \n",
        "#Referred From- \" https://github.com/IBM/differential-privacy-library\""
      ],
      "metadata": {
        "id": "Y_m5qUxiw8FE"
      },
      "execution_count": null,
      "outputs": []
    },
    {
      "cell_type": "code",
      "source": [
        "kmeans = KMeans(n_clusters = 2, epsilon=1.0, bounds=None)\n",
        "y_kmeans = kmeans.fit_predict(X)"
      ],
      "metadata": {
        "colab": {
          "base_uri": "https://localhost:8080/"
        },
        "id": "J_vepSCu8vDS",
        "outputId": "76919234-2e09-4e10-cca6-7421ef602b75"
      },
      "execution_count": 112,
      "outputs": [
        {
          "output_type": "stream",
          "name": "stderr",
          "text": [
            "/usr/local/lib/python3.7/dist-packages/diffprivlib/models/k_means.py:130: PrivacyLeakWarning: Bounds have not been specified and will be calculated on the data provided.  This will result in additional privacy leakage. To ensure differential privacy and no additional privacy leakage, specify `bounds` for each dimension.\n",
            "  \"privacy leakage, specify `bounds` for each dimension.\", PrivacyLeakWarning)\n"
          ]
        }
      ]
    },
    {
      "cell_type": "code",
      "source": [
        "#Visualising the clusters\n",
        "plt.scatter(x[y_kmeans == 0, 0], x[y_kmeans == 0, 1], s = 100, c = 'purple', label = 'Iris-setosa')\n",
        "plt.scatter(x[y_kmeans == 1, 0], x[y_kmeans == 1, 1], s = 100, c = 'orange', label = 'Iris-versicolour')\n",
        "#plt.scatter(x[y_kmeans == 2, 0], x[y_kmeans == 2, 1], s = 100, c = 'green', label = 'Iris-virginica')\n",
        "\n",
        "#Plotting the centroids of the clusters\n",
        "plt.scatter(kmeans.cluster_centers_[:, 0], kmeans.cluster_centers_[:,1], s = 100, c = 'red', label = 'Centroids')\n",
        "\n",
        "plt.legend()"
      ],
      "metadata": {
        "colab": {
          "base_uri": "https://localhost:8080/",
          "height": 285
        },
        "id": "Ig8u1OSxx8zL",
        "outputId": "aea8bb1d-b8f1-4267-cf96-2212aae5a626"
      },
      "execution_count": 113,
      "outputs": [
        {
          "output_type": "execute_result",
          "data": {
            "text/plain": [
              "<matplotlib.legend.Legend at 0x7f727ae61910>"
            ]
          },
          "metadata": {},
          "execution_count": 113
        },
        {
          "output_type": "display_data",
          "data": {
            "text/plain": [
              "<Figure size 432x288 with 1 Axes>"
            ],
            "image/png": "[encoded data removed]"
          },
          "metadata": {
            "needs_background": "light"
          }
        }
      ]
    },
    {
      "cell_type": "code",
      "source": [
        " #CASE3-EVALUATING PRIVACY PRESERVING  KMEANS WITH EPILSON AND BOUND VALUE SET\n",
        " #evaluate the accuracy of the model for various epsilon values and plot it with matplotlib."
      ],
      "metadata": {
        "id": "2UADLxaJycH3"
      },
      "execution_count": null,
      "outputs": []
    },
    {
      "cell_type": "code",
      "source": [
        "import numpy as np\n",
        "import matplotlib.pyplot as plt\n",
        "\n",
        "epsilons = np.logspace(-2, 2, 50)\n",
        "bounds = ([4.3, 2.0, 1.1, 0.1], [7.9, 4.4, 6.9, 2.5])\n",
        "accuracy = list()\n",
        "\n",
        "for epsilon in epsilons:\n",
        "    clf = KMeans(bounds=bounds, epsilon=epsilon)\n",
        "    clf.fit(X)\n",
        "    \n",
        "    accuracy.append(clf.score(X))\n",
        "\n",
        "plt.semilogx(epsilons, accuracy)\n",
        "plt.title(\"Differentially private KMeans accuracy\")\n",
        "plt.xlabel(\"epsilon\")\n",
        "plt.ylabel(\"Accuracy\")\n",
        "plt.show()"
      ],
      "metadata": {
        "colab": {
          "base_uri": "https://localhost:8080/",
          "height": 299
        },
        "id": "SiNgGFzvx3FQ",
        "outputId": "76074d8b-13c8-4e33-d8de-a54e20035d43"
      },
      "execution_count": 114,
      "outputs": [
        {
          "output_type": "display_data",
          "data": {
            "text/plain": [
              "<Figure size 432x288 with 1 Axes>"
            ],
            "image/png": "[encoded data removed]"
          },
          "metadata": {
            "needs_background": "light"
          }
        }
      ]
    }
  ]
}